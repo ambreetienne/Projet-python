{
 "cells": [
  {
   "cell_type": "code",
   "execution_count": 14,
   "id": "82a98d79",
   "metadata": {},
   "outputs": [],
   "source": [
    "import random"
   ]
  },
  {
   "cell_type": "code",
   "execution_count": 17,
   "id": "5ad53ecd",
   "metadata": {},
   "outputs": [
    {
     "data": {
      "text/plain": [
       "1113"
      ]
     },
     "execution_count": 17,
     "metadata": {},
     "output_type": "execute_result"
    }
   ],
   "source": [
    "random.randrange(1200)"
   ]
  },
  {
   "cell_type": "code",
   "execution_count": 19,
   "id": "564d7127",
   "metadata": {},
   "outputs": [],
   "source": [
    "a=1+2+3+4"
   ]
  },
  {
   "cell_type": "code",
   "execution_count": 20,
   "id": "7ae96695",
   "metadata": {},
   "outputs": [],
   "source": [
    "b=152678976546789"
   ]
  },
  {
   "cell_type": "code",
   "execution_count": 21,
   "id": "93b85897",
   "metadata": {},
   "outputs": [
    {
     "name": "stdout",
     "output_type": "stream",
     "text": [
      "152678976546799\n"
     ]
    }
   ],
   "source": [
    "print(a+b)"
   ]
  },
  {
   "cell_type": "code",
   "execution_count": null,
   "id": "729f1a28",
   "metadata": {},
   "outputs": [],
   "source": []
  }
 ],
 "metadata": {
  "kernelspec": {
   "display_name": "Python 3 (ipykernel)",
   "language": "python",
   "name": "python3"
  },
  "language_info": {
   "codemirror_mode": {
    "name": "ipython",
    "version": 3
   },
   "file_extension": ".py",
   "mimetype": "text/x-python",
   "name": "python",
   "nbconvert_exporter": "python",
   "pygments_lexer": "ipython3",
   "version": "3.8.8"
  }
 },
 "nbformat": 4,
 "nbformat_minor": 5
}
