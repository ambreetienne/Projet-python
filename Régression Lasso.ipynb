{
 "cells": [
  {
   "cell_type": "markdown",
   "metadata": {},
   "source": [
    "# Régression Lasso"
   ]
  },
  {
   "cell_type": "markdown",
   "metadata": {},
   "source": [
    "Dans cette partie, nous allons nous intéresser à la régression Lasso. Elle repose également sur le modèle de régression linéaire mais elle effectue une régularisation dite L1, qui est un processus d'introduction d'informations supplémentaires afin d'éviter l'*overfitting*.\n",
    "Ainsi, on peut ajuster un modèle contenant toutes les variables explicatives possibles et utiliser le lasso pour effectuer une sélection de variables. On utilise une technique qui régularise les estimations de coefficient (elle rétrécit les estimations de coefficient vers zéro)."
   ]
  },
  {
   "cell_type": "markdown",
   "metadata": {},
   "source": [
    "On installe les packages nécessaires :"
   ]
  },
  {
   "cell_type": "code",
   "execution_count": 2,
   "metadata": {},
   "outputs": [
    {
     "name": "stderr",
     "output_type": "stream",
     "text": [
      "c:\\Users\\gille\\Anaconda3\\lib\\site-packages\\pandas\\compat\\_optional.py:138: UserWarning: Pandas requires version '2.7.0' or newer of 'numexpr' (version '2.6.9' currently installed).\n",
      "  warnings.warn(msg, UserWarning)\n"
     ]
    }
   ],
   "source": [
    "import numpy as np\n",
    "import seaborn as sns\n",
    "import pandas as pd\n",
    "import matplotlib.pyplot as plt\n",
    "import sklearn.metrics\n",
    "\n",
    "from sklearn.preprocessing import StandardScaler\n",
    "from sklearn.model_selection import train_test_split\n",
    "from sklearn.linear_model import Lasso\n",
    "from sklearn.metrics import mean_squared_error \n",
    "from sklearn.linear_model import lasso_path\n",
    "from sklearn.linear_model import LassoCV"
   ]
  },
  {
   "cell_type": "markdown",
   "metadata": {},
   "source": [
    "On importe la base de données, nettoyée :"
   ]
  },
  {
   "cell_type": "code",
   "execution_count": 3,
   "metadata": {},
   "outputs": [],
   "source": [
    "df=pd.read_excel('Datasofifaclean.xlsx')\n",
    "df=df.drop(columns=['Unnamed: 0'],axis=1)"
   ]
  },
  {
   "cell_type": "markdown",
   "metadata": {},
   "source": [
    "On commence par sélectionner les variables qui nous intéressent, à savoir : *Age, Taille, Salaire, Valeur, Score total, Attaque, Technique, Mouvement, Puissance, Defense, Gardien, Etat Esprit*. \n",
    "\n",
    "La régression Lasso fonctionne mieux lorsque toutes les variables numériques sont centrées autour de 0 et ont une variance du même ordre. Si une variable a une variance qui est d'un ordre de grandeur plus grande que les autres, elle peut dominer les autres et rendre l'estimateur incapable d'apprendre correctement des autres variables.\n",
    "\n",
    "Cela signifie qu'il est important de standardiser nos variables."
   ]
  },
  {
   "cell_type": "code",
   "execution_count": 4,
   "metadata": {},
   "outputs": [
    {
     "name": "stderr",
     "output_type": "stream",
     "text": [
      "c:\\Users\\gille\\Anaconda3\\lib\\site-packages\\pandas\\core\\frame.py:3678: SettingWithCopyWarning: \n",
      "A value is trying to be set on a copy of a slice from a DataFrame.\n",
      "Try using .loc[row_indexer,col_indexer] = value instead\n",
      "\n",
      "See the caveats in the documentation: https://pandas.pydata.org/pandas-docs/stable/user_guide/indexing.html#returning-a-view-versus-a-copy\n",
      "  self[col] = igetitem(value, i)\n"
     ]
    }
   ],
   "source": [
    "col_modele=[\"Age\",\"Taille\",\"Salaire\",\"Valeur\",\"Score total\",\"Attaque\",\"Technique\",\"Mouvement\",\"Puissance\",\"Defense\",\"Gardien\",\"Etat Esprit\"]\n",
    "df2=df[col_modele]\n",
    "features = df[col_modele]\n",
    "features = StandardScaler().fit(features.values).transform(features.values)\n",
    "df2[col_modele] = features"
   ]
  },
  {
   "cell_type": "markdown",
   "metadata": {},
   "source": [
    "On sépare nos données en un échantillon de test et un échantillon d'apprentissage :"
   ]
  },
  {
   "cell_type": "code",
   "execution_count": 5,
   "metadata": {},
   "outputs": [],
   "source": [
    "X_train, X_test, y_train, y_test = train_test_split(\n",
    "    df2.drop([\"Valeur\"], axis = 1),\n",
    "    100*df2[['Valeur']].values.ravel(), test_size=0.2, random_state=0\n",
    ")"
   ]
  },
  {
   "cell_type": "markdown",
   "metadata": {},
   "source": [
    "## 1) Première régression Lasso"
   ]
  },
  {
   "cell_type": "markdown",
   "metadata": {},
   "source": [
    "On effectue une première régression Lasso pour $\\alpha$ = 0.1:"
   ]
  },
  {
   "cell_type": "code",
   "execution_count": 6,
   "metadata": {},
   "outputs": [
    {
     "name": "stderr",
     "output_type": "stream",
     "text": [
      "c:\\Users\\gille\\Anaconda3\\lib\\site-packages\\sklearn\\linear_model\\_base.py:155: FutureWarning: 'normalize' was deprecated in version 1.0 and will be removed in 1.2. Please leave the normalize parameter to its default value to silence this warning. The default behavior of this estimator is to not do any normalization. If normalization is needed please use sklearn.preprocessing.StandardScaler instead.\n",
      "  FutureWarning,\n"
     ]
    },
    {
     "data": {
      "text/plain": [
       "Lasso(alpha=0.1, normalize=False)"
      ]
     },
     "execution_count": 6,
     "metadata": {},
     "output_type": "execute_result"
    }
   ],
   "source": [
    "lasso1 = Lasso(fit_intercept=True,normalize=False, alpha = 0.1)\n",
    "lasso1.fit(X_train,y_train)"
   ]
  },
  {
   "cell_type": "code",
   "execution_count": 7,
   "metadata": {},
   "outputs": [
    {
     "name": "stdout",
     "output_type": "stream",
     "text": [
      "Les variables retenues par la régression Lasso sont : Age,Taille,Salaire,Score total,Attaque,Technique,Mouvement,Puissance,Defense,Gardien,Etat Esprit\n"
     ]
    }
   ],
   "source": [
    "features_selec = df2.select_dtypes(include=np.number).drop(\"Valeur\", axis = 1).columns[np.abs(lasso1.coef_)>0].tolist()\n",
    "print('Les variables retenues par la régression Lasso sont :', ','.join(features_selec))"
   ]
  },
  {
   "cell_type": "markdown",
   "metadata": {},
   "source": [
    "On évalue notre modèle:"
   ]
  },
  {
   "cell_type": "code",
   "execution_count": 8,
   "metadata": {},
   "outputs": [
    {
     "name": "stdout",
     "output_type": "stream",
     "text": [
      "Le R² de l'échantillon d'apprentissage est 0.727\n",
      "Le R² de l'échantillon de test est 0.7235\n"
     ]
    }
   ],
   "source": [
    "print(\"Le R² de l'échantillon d'apprentissage est\", round(lasso1.score(X_train, y_train),4))\n",
    "print(\"Le R² de l'échantillon de test est\", round(lasso1.score(X_test, y_test),4))"
   ]
  },
  {
   "cell_type": "code",
   "execution_count": 9,
   "metadata": {},
   "outputs": [
    {
     "name": "stdout",
     "output_type": "stream",
     "text": [
      "L'erreur quadrataique moyenne sur l'échantillon d'apprentissage est 2821.43\n",
      "L'erreur quadrataique moyenne sur l'échantillon de test est 2393.04\n"
     ]
    }
   ],
   "source": [
    "pred_train = lasso1.predict(X_train)\n",
    "mse_train = mean_squared_error(y_train, pred_train)\n",
    "print(\"L'erreur quadrataique moyenne sur l'échantillon d'apprentissage est\",round(mse_train, 2))\n",
    "\n",
    "pred = lasso1.predict(X_test)\n",
    "mse_test =mean_squared_error(y_test, pred)\n",
    "print(\"L'erreur quadrataique moyenne sur l'échantillon de test est\",round(mse_test, 2))\n"
   ]
  },
  {
   "cell_type": "markdown",
   "metadata": {},
   "source": [
    "## 2) Régression Lasso pour différentes valeurs de $\\alpha$"
   ]
  },
  {
   "cell_type": "markdown",
   "metadata": {},
   "source": [
    "On effectue des régressions Lasso pour différentes valeurs de $\\alpha$."
   ]
  },
  {
   "cell_type": "code",
   "execution_count": 10,
   "metadata": {},
   "outputs": [],
   "source": [
    "my_alphas = np.array([0.001,0.01,0.02,0.025,0.05,0.1,0.25,0.5,0.8,1.0])\n",
    "alpha_for_path, coefs_lasso, _ = lasso_path(X_train,y_train,alphas=my_alphas)\n",
    "nb_non_zero = np.apply_along_axis(func1d=np.count_nonzero,arr=coefs_lasso,axis=0)"
   ]
  },
  {
   "cell_type": "markdown",
   "metadata": {},
   "source": [
    "On recense le nombre de variables retenues à l'aide des régressions Lasso pour différentes valeurs de $\\alpha$."
   ]
  },
  {
   "cell_type": "code",
   "execution_count": 24,
   "metadata": {},
   "outputs": [
    {
     "data": {
      "text/plain": [
       "Text(0.5, 1.0, 'Nombre de variables retenues fonction de alpha')"
      ]
     },
     "execution_count": 24,
     "metadata": {},
     "output_type": "execute_result"
    },
    {
     "data": {
      "image/png": "[encoded data removed]",
      "text/plain": [
       "<Figure size 432x288 with 1 Axes>"
      ]
     },
     "metadata": {},
     "output_type": "display_data"
    }
   ],
   "source": [
    "sns.set_style(\"whitegrid\")\n",
    "ax = plt.gca()\n",
    "\n",
    "ax.plot(alpha_for_path, nb_non_zero)\n",
    "plt.axis('tight')\n",
    "plt.xlabel('alpha')\n",
    "plt.ylabel('Nb. variables retenues')\n",
    "plt.title(\"Nombre de variables retenues fonction de alpha\")"
   ]
  },
  {
   "cell_type": "markdown",
   "metadata": {},
   "source": [
    "On calcule l'erreur quadratique moyenne (notée MSE) pour les régressions avec différentes valeurs de $\\alpha$, sur l'échantillon d'apprentissage et sur l'échantillon de test."
   ]
  },
  {
   "cell_type": "code",
   "execution_count": 46,
   "metadata": {},
   "outputs": [],
   "source": [
    "mse_train=[]\n",
    "mse_test=[]\n",
    "lasso = Lasso(max_iter=10000)\n",
    "for a in my_alphas:\n",
    "    lasso.set_params(alpha=a)\n",
    "    lasso.fit(X_train, y_train)\n",
    "    pred = lasso.predict(X_test)\n",
    "    mse_test.append(mean_squared_error(y_test, pred))\n",
    "    pred_train = lasso.predict(X_train)\n",
    "    mse_train.append(mean_squared_error(y_train, pred_train))"
   ]
  },
  {
   "cell_type": "code",
   "execution_count": 47,
   "metadata": {},
   "outputs": [
    {
     "data": {
      "text/plain": [
       "Text(0.5, 1.0, \"MSE de l'échantillon d'apprentissage fonction de alpha\")"
      ]
     },
     "execution_count": 47,
     "metadata": {},
     "output_type": "execute_result"
    },
    {
     "data": {
      "image/png": "[encoded data removed]",
      "text/plain": [
       "<Figure size 432x288 with 1 Axes>"
      ]
     },
     "metadata": {},
     "output_type": "display_data"
    }
   ],
   "source": [
    "sns.set_style(\"whitegrid\")\n",
    "ax = plt.gca()\n",
    "\n",
    "ax.plot(alpha_for_path, mse_train)\n",
    "ax.set_xscale('log')\n",
    "plt.axis('tight')\n",
    "plt.xlabel('alpha')\n",
    "plt.ylabel('MSE')\n",
    "plt.title(\"MSE de l'échantillon d'apprentissage fonction de alpha\")"
   ]
  },
  {
   "cell_type": "code",
   "execution_count": 48,
   "metadata": {},
   "outputs": [
    {
     "data": {
      "text/plain": [
       "Text(0.5, 1.0, \"MSE de l'échantillon de test fonction de alpha\")"
      ]
     },
     "execution_count": 48,
     "metadata": {},
     "output_type": "execute_result"
    },
    {
     "data": {
      "image/png": "[encoded data removed]",
      "text/plain": [
       "<Figure size 432x288 with 1 Axes>"
      ]
     },
     "metadata": {},
     "output_type": "display_data"
    }
   ],
   "source": [
    "sns.set_style(\"whitegrid\")\n",
    "ax = plt.gca()\n",
    "\n",
    "ax.plot(alpha_for_path, mse_test)\n",
    "ax.set_xscale('log')\n",
    "plt.axis('tight')\n",
    "plt.xlabel('alpha')\n",
    "plt.ylabel('MSE')\n",
    "plt.title(\"MSE de l'échantillon de test fonction de alpha\")"
   ]
  },
  {
   "cell_type": "markdown",
   "metadata": {},
   "source": [
    "## 3) Détermination de la valeur de $\\alpha$ optimal"
   ]
  },
  {
   "cell_type": "markdown",
   "metadata": {},
   "source": [
    "Afin de trouver la valeur optimale d'alpha, nous utilisons le package `scikit` et LassoCV qui déterminent un modèle linéaire Lasso avec ajustement itératif le long d'un chemin de régularisation. Le meilleur modèle est sélectionné par validation croisée.\n",
    "\n",
    "On réalise une validation croisée en 5 blocs."
   ]
  },
  {
   "cell_type": "code",
   "execution_count": 27,
   "metadata": {},
   "outputs": [
    {
     "data": {
      "text/plain": [
       "LassoCV(cv=5, max_iter=10000, random_state=0)"
      ]
     },
     "execution_count": 27,
     "metadata": {},
     "output_type": "execute_result"
    }
   ],
   "source": [
    "model = LassoCV(cv=5, random_state=0, max_iter=10000)\n",
    "model.fit(X_train, y_train)"
   ]
  },
  {
   "cell_type": "code",
   "execution_count": 33,
   "metadata": {},
   "outputs": [
    {
     "name": "stdout",
     "output_type": "stream",
     "text": [
      "La meilleure valeur de pénanlisation pour alpha avec validation croisée est 0.221\n"
     ]
    }
   ],
   "source": [
    "print(\"La meilleure valeur de pénanlisation pour alpha avec validation croisée est\", round(model.alpha_,4))"
   ]
  },
  {
   "cell_type": "markdown",
   "metadata": {},
   "source": [
    "Traçons, pour chaque groupe de validation, l'erreur quadratique moyenne en fonction de la valeur de $\\alpha$."
   ]
  },
  {
   "cell_type": "code",
   "execution_count": 49,
   "metadata": {},
   "outputs": [
    {
     "data": {
      "text/plain": [
       "(0.05891441386030578,\n",
       " 117.5497097839483,\n",
       " 1753.8075217257128,\n",
       " 14463.008618768756)"
      ]
     },
     "execution_count": 49,
     "metadata": {},
     "output_type": "execute_result"
    },
    {
     "data": {
      "image/png": "[encoded data removed]",
      "text/plain": [
       "<Figure size 432x288 with 1 Axes>"
      ]
     },
     "metadata": {},
     "output_type": "display_data"
    }
   ],
   "source": [
    "plt.semilogx(model.alphas_, model.mse_path_, \":\")\n",
    "plt.plot(\n",
    "    model.alphas_ ,\n",
    "    model.mse_path_.mean(axis=-1),\n",
    "    \"k\",\n",
    "    label=\"Moyenne à travers les blocs\",\n",
    "    linewidth=2,\n",
    ")\n",
    "\n",
    "plt.axvline(\n",
    "    model.alpha_, linestyle=\"--\", color=\"k\", label=\"alpha optimal\"\n",
    ")\n",
    "\n",
    "plt.legend()\n",
    "plt.xlabel(\"alpha\")\n",
    "plt.ylabel(\"MSE\")\n",
    "plt.title(\"MSE de chaque bloc de validation\")\n",
    "plt.axis(\"tight\")"
   ]
  },
  {
   "cell_type": "markdown",
   "metadata": {},
   "source": [
    "On remarque que la valeur de $\\alpha$ optimal 0.221 permet de minimiser l'erreur quadratique moyenne."
   ]
  },
  {
   "cell_type": "markdown",
   "metadata": {},
   "source": [
    "On utilise la meilleure valeure de $\\alpha$ trouvée pour notre modèle final."
   ]
  },
  {
   "cell_type": "code",
   "execution_count": 34,
   "metadata": {},
   "outputs": [
    {
     "data": {
      "text/plain": [
       "Lasso(alpha=0.221036495089735)"
      ]
     },
     "execution_count": 34,
     "metadata": {},
     "output_type": "execute_result"
    }
   ],
   "source": [
    "lasso_best = Lasso(alpha=model.alpha_)\n",
    "lasso_best.fit(X_train, y_train)"
   ]
  },
  {
   "cell_type": "code",
   "execution_count": 35,
   "metadata": {},
   "outputs": [
    {
     "name": "stdout",
     "output_type": "stream",
     "text": [
      "Les variables retenues par la régression Lasso sont : Age,Taille,Salaire,Score total,Technique,Mouvement,Puissance,Defense,Gardien\n"
     ]
    }
   ],
   "source": [
    "features_selec2 = df2.select_dtypes(include=np.number).drop(\"Valeur\", axis = 1).columns[np.abs(lasso_best.coef_)>0].tolist()\n",
    "print('Les variables retenues par la régression Lasso sont :', ','.join(features_selec2))"
   ]
  },
  {
   "cell_type": "markdown",
   "metadata": {},
   "source": [
    "On remarque que cette fois, la variable *Etat d'esprit* n'a pas été retenu.\n",
    "\n",
    "Evaluation du modèle avec ce alpha optimal :"
   ]
  },
  {
   "cell_type": "code",
   "execution_count": 36,
   "metadata": {},
   "outputs": [
    {
     "name": "stdout",
     "output_type": "stream",
     "text": [
      "Le R² de l'échantillon d'apprentissage est 0.7269\n",
      "Le R² de l'échantillon de test est 0.7234\n"
     ]
    }
   ],
   "source": [
    "print(\"Le R² de l'échantillon d'apprentissage est\", round(lasso_best.score(X_train, y_train),4))\n",
    "print(\"Le R² de l'échantillon de test est\", round(lasso_best.score(X_test, y_test),4))"
   ]
  },
  {
   "cell_type": "markdown",
   "metadata": {},
   "source": [
    "On obtient approximativement les mêmes valeurs de R² qu'avec un $\\alpha$ = 0.1"
   ]
  },
  {
   "cell_type": "code",
   "execution_count": 37,
   "metadata": {},
   "outputs": [
    {
     "name": "stdout",
     "output_type": "stream",
     "text": [
      "L'erreur quadrataique moyenne sur l'échantillon d'apprentissage est 2822.58\n",
      "L'erreur quadrataique moyenne sur l'échantillon de test est 2393.84\n"
     ]
    }
   ],
   "source": [
    "pred_train = lasso_best.predict(X_train)\n",
    "mse_train = mean_squared_error(y_train, pred_train)\n",
    "print(\"L'erreur quadrataique moyenne sur l'échantillon d'apprentissage est\",round(mse_train, 2))\n",
    "\n",
    "pred = lasso_best.predict(X_test)\n",
    "mse_test =mean_squared_error(y_test, pred)\n",
    "print(\"L'erreur quadrataique moyenne sur l'échantillon de test est\",round(mse_test, 2))\n"
   ]
  },
  {
   "cell_type": "markdown",
   "metadata": {},
   "source": [
    "De même, l'erreur quadratique est sensiblement la même qu'avec $\\alpha$ = 0.1"
   ]
  }
 ],
 "metadata": {
  "kernelspec": {
   "display_name": "Python 3",
   "language": "python",
   "name": "python3"
  },
  "language_info": {
   "codemirror_mode": {
    "name": "ipython",
    "version": 3
   },
   "file_extension": ".py",
   "mimetype": "text/x-python",
   "name": "python",
   "nbconvert_exporter": "python",
   "pygments_lexer": "ipython3",
   "version": "3.8.9 (default, Mar 30 2022, 13:51:17) \n[Clang 13.1.6 (clang-1316.0.21.2.3)]"
  },
  "orig_nbformat": 4,
  "vscode": {
   "interpreter": {
    "hash": "31f2aee4e71d21fbe5cf8b01ff0e069b9275f58929596ceb00d14d90e3e16cd6"
   }
  }
 },
 "nbformat": 4,
 "nbformat_minor": 2
}
